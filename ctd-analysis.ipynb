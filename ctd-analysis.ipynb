{
 "cells": [
  {
   "cell_type": "code",
   "execution_count": 1,
   "id": "53b8288e",
   "metadata": {},
   "outputs": [],
   "source": [
    "# note - the old notebook is located at ../school/ai-capstone/CTD_Parkinsons.ipynb\n",
    "# note - read this for better evaluation metrics https://towardsdatascience.com/what-metrics-should-we-use-on-imbalanced-data-set-precision-recall-roc-e2e79252aeba"
   ]
  },
  {
   "cell_type": "code",
   "execution_count": 2,
   "id": "269277f5",
   "metadata": {},
   "outputs": [],
   "source": [
    "import os\n",
    "import requests\n",
    "\n",
    "import numpy as np\n",
    "import pandas as pd\n",
    "\n",
    "import tensorflow as tf\n",
    "from keras import Sequential\n",
    "from keras.layers import Input, Dense, BatchNormalization, LSTM, Embedding, Bidirectional, Normalization, Conv1D, Dropout, MaxPool2D,MaxPooling1D, Flatten\n",
    "from keras.models import Model\n",
    "\n",
    "from sklearn.decomposition import PCA\n",
    "\n",
    "import matplotlib.pyplot as plt\n",
    "\n",
    "from sklearn.metrics import roc_curve,roc_auc_score, confusion_matrix, ConfusionMatrixDisplay\n",
    "from sklearn.model_selection import train_test_split\n",
    "from sklearn.preprocessing import OneHotEncoder\n"
   ]
  },
  {
   "cell_type": "code",
   "execution_count": 3,
   "id": "f69ece62",
   "metadata": {},
   "outputs": [],
   "source": [
    "VERBOSE=False\n",
    "EPOCHS=25"
   ]
  },
  {
   "cell_type": "markdown",
   "id": "5e54257b",
   "metadata": {},
   "source": [
    "## This cell will defines a function used to download files from CTD"
   ]
  },
  {
   "cell_type": "code",
   "execution_count": 4,
   "id": "d3012db7",
   "metadata": {},
   "outputs": [],
   "source": [
    "import gzip\n",
    "import shutil\n",
    "\n",
    "def download_resource(resource):\n",
    "    url_dl_pattern = 'http://ctdbase.org/reports/{resource}.csv.gz'\n",
    "    url = url_dl_pattern.format(resource=resource)\n",
    "    \n",
    "    print('downloading: {0}'.format(resource))\n",
    "    local_filename = 'zipped_data/' + url.split('/')[-1]\n",
    "    unzipped_filename = 'unzipped_data/' + url.split('/')[-1].replace('.gz', '')\n",
    "    \n",
    "    if os.path.isfile(unzipped_filename):\n",
    "        print('data already exists')\n",
    "        return \n",
    "\n",
    "    # NOTE the stream=True parameter below\n",
    "    with requests.get(url, stream=True) as r:\n",
    "        r.raise_for_status()\n",
    "        with open(local_filename, 'wb') as f:\n",
    "            for chunk in r.iter_content(chunk_size=8192): \n",
    "                # If you have chunk encoded response uncomment if\n",
    "                # and set chunk_size parameter to None.\n",
    "                #if chunk: \n",
    "                f.write(chunk)\n",
    "\n",
    "    with gzip.open(local_filename, 'rb') as f_in:\n",
    "        with open(unzipped_filename, 'wb') as f_out:\n",
    "            shutil.copyfileobj(f_in, f_out)\n",
    "    \n",
    "    return local_filename\n"
   ]
  },
  {
   "cell_type": "markdown",
   "id": "01239d3e",
   "metadata": {},
   "source": [
    "## Here we download all of the files we'll need from CTD"
   ]
  },
  {
   "cell_type": "code",
   "execution_count": 5,
   "id": "e58b1bc0",
   "metadata": {},
   "outputs": [
    {
     "name": "stdout",
     "output_type": "stream",
     "text": [
      "downloading: CTD_chem_gene_ixns\n",
      "data already exists\n",
      "downloading: CTD_chemicals_diseases\n",
      "data already exists\n",
      "downloading: CTD_diseases\n",
      "data already exists\n"
     ]
    }
   ],
   "source": [
    "\n",
    "resources = [\n",
    "#     'CTD_chem_gene_ixn_types',\n",
    "#     'CTD_chem_pathways_enriched',\n",
    "#     'CTD_genes_diseases',\n",
    "#     'CTD_genes_pathways',\n",
    "#     'CTD_diseases_pathways',\n",
    "#     'CTD_pheno_term_ixns',\n",
    "#     'CTD_exposure_studies',\n",
    "#     'CTD_chemicals',\n",
    "#     'CTD_genes',\n",
    "    'CTD_chem_gene_ixns',\n",
    "    'CTD_chemicals_diseases',\n",
    "    'CTD_diseases'\n",
    "]\n",
    "\n",
    "for res in resources:\n",
    "    download_resource(res)\n"
   ]
  },
  {
   "cell_type": "markdown",
   "id": "5f8c3fde",
   "metadata": {},
   "source": [
    "## This function allows us to pull one of the files into a dataframe from local storage"
   ]
  },
  {
   "cell_type": "code",
   "execution_count": 6,
   "id": "d2ca8d91",
   "metadata": {},
   "outputs": [],
   "source": [
    "def get_df(resource):\n",
    "    line_number = 27\n",
    "    the_file = 'unzipped_data/{resource}.csv'.format(resource=resource)\n",
    "    with open(the_file, 'r') as reader:\n",
    "        for i, row in enumerate(reader):\n",
    "            if i == line_number:\n",
    "                header = row.replace('# ', '').split(',')\n",
    "\n",
    "    # print(header)\n",
    "    df = pd.read_csv(the_file, skiprows=29, names=header)\n",
    "    return df"
   ]
  },
  {
   "cell_type": "markdown",
   "id": "8f881fdd",
   "metadata": {},
   "source": [
    "## In this block, we find all of the diseases that we want to use in our algorithm.  We look for three depths of the hierarchy then define all the gene networks for all those diseases, so we can use those as the target labels in our classifier."
   ]
  },
  {
   "cell_type": "code",
   "execution_count": 7,
   "id": "30ae4653",
   "metadata": {},
   "outputs": [],
   "source": [
    "disease_df = get_df('CTD_diseases')\n",
    "disease_df[:4]\n",
    "disease_df['ParentIDs'].str.split('|').explode()\n",
    "\n",
    "hierarchy_df = disease_df.assign(ParentIDs=disease_df['ParentIDs'].str.split('|')).explode('ParentIDs')\n",
    "\n",
    "# top_of_tree = 'MESH:D010300' # parkinsons disease\n",
    "# top_of_tree = 'MESH:D020734' # Parkinsonian Disorders\n",
    "top_of_tree = 'MESH:D019636' # neurodegenerative diseases\n",
    "# top_of_tree = 'MESH:D009422' # nervous system diseases\n",
    "level_one = hierarchy_df.loc[hierarchy_df['ParentIDs'] == top_of_tree]\n",
    "level_two = hierarchy_df.loc[hierarchy_df['ParentIDs'].isin(level_one['DiseaseID'])]\n",
    "level_three = hierarchy_df.loc[hierarchy_df['ParentIDs'].isin(level_two['DiseaseID'])]\n",
    "\n",
    "# to do, do this recursively..\n",
    "all_diseases = list(level_one['DiseaseID'].unique()) \\\n",
    "             + list(level_two['DiseaseID'].unique()) \\\n",
    "             + list(level_three['DiseaseID'].unique()) \\\n",
    "             + [top_of_tree]\n"
   ]
  },
  {
   "cell_type": "markdown",
   "id": "23f36e6f",
   "metadata": {},
   "source": [
    "## Here we find the top N genes in the network by frequency.  By using all of the genes in the network the matrix is far too sparse so we chose N genes to reduce the number of features that we'll use for the classification"
   ]
  },
  {
   "cell_type": "code",
   "execution_count": 8,
   "id": "b498a605",
   "metadata": {},
   "outputs": [],
   "source": [
    "def get_genes(df, N):\n",
    "    gene_df = pd.DataFrame(df.groupby(['InferenceGeneSymbol']).size()).reset_index()\n",
    "    gene_df.columns = ['InferenceGeneSymbol','cnt']\n",
    "    top_n_genes_df = gene_df.sort_values('cnt', ascending=False)[:N]\n",
    "    top_n_genes = top_n_genes_df['InferenceGeneSymbol'].unique()\n",
    "    \n",
    "    return top_n_genes\n",
    "    ## HERE WE ADD ALL THE GENES IN THE PARKINSONS NETWORK\n",
    "    # genes_in_diseases = df[df['DiseaseID'].isin(all_diseases)]['InferenceGeneSymbol'].unique()\n",
    "    \n",
    "    # unique_list_of_genes = list(set(list(top_n_genes) + list(genes_in_diseases)))\n",
    "    # return [x for x in unique_list_of_genes if type(x) == str]\n",
    "\n",
    "df = get_df('CTD_chemicals_diseases')\n",
    "N = 500\n",
    "top_500_genes = get_genes(df, N)"
   ]
  },
  {
   "cell_type": "markdown",
   "id": "b989b856",
   "metadata": {},
   "source": [
    "## In this function we take the chemical_disease interaction dataset and create N features for the N genes we've defined above.  There are two types of rows in this dataset -- one with no gene interactions and  \"direct evidence\" field of either \"marker/mechanism\" or \"therapeutic\".  Then we have rows for every gene interaction in the network.  \n",
    "\n",
    "## We split the data set up into these two derivations and join them together on chemical/disease to be able to apply the inference score from the gene rows.  The idea here is we're trying to recreate the way the dataset looks [here](http://ctdbase.org/detail.go?type=disease&acc=MESH%3AD010300&view=chem)\n"
   ]
  },
  {
   "cell_type": "code",
   "execution_count": 9,
   "id": "2c018b46",
   "metadata": {},
   "outputs": [],
   "source": [
    "def get_training_data(df, top_n_genes, use_fs=False):\n",
    "    \n",
    "    if use_fs:\n",
    "        try:\n",
    "            return pd.read_csv('gene_network.csv')\n",
    "        except Exception:\n",
    "            pass\n",
    "\n",
    "    gene_df = df.loc[df['DirectEvidence'].isnull()][['ChemicalName', 'DiseaseName', 'InferenceGeneSymbol', 'InferenceScore', 'DiseaseID']]\n",
    "\n",
    "    gene_df = gene_df.loc[gene_df['InferenceGeneSymbol'].isin(top_n_genes)]\n",
    "\n",
    "    evidence_df = df.loc[df['DirectEvidence'].notnull()][['ChemicalName', 'DiseaseName', 'DirectEvidence', 'DiseaseID']]\n",
    "    merged_df = gene_df.merge(evidence_df, on=['ChemicalName', 'DiseaseName', 'DiseaseID'])\n",
    "\n",
    "    dummy_df = pd.get_dummies(merged_df, prefix='', prefix_sep='',columns=['InferenceGeneSymbol'])\n",
    "    gb_df = dummy_df.groupby(['DiseaseName', 'ChemicalName', 'DiseaseID']).agg({np.max}).reset_index()\n",
    "\n",
    "    gb_df.columns = gb_df.columns.droplevel(1)\n",
    "\n",
    "    gb_df['label'] = np.where(gb_df['DirectEvidence'] == 'marker/mechanism',\n",
    "                                               gb_df['InferenceScore'] * -1,\n",
    "                                               gb_df['InferenceScore'])\n",
    "\n",
    "    if use_fs:\n",
    "        gb_df.to_csv('gene_network.csv')\n",
    "        \n",
    "    return gb_df\n",
    "    \n",
    "train_df = get_training_data(df, top_n_genes=top_500_genes, use_fs=True)\n",
    "    "
   ]
  },
  {
   "cell_type": "markdown",
   "id": "7015cd54",
   "metadata": {},
   "source": [
    "## Here we define a binary label based on the presence of the diseases we've selected above ... that is all the neruodegenerative disease / gene interactions will have a 1 and all the other interactions will ahve a zero."
   ]
  },
  {
   "cell_type": "code",
   "execution_count": 10,
   "id": "90ad3c85",
   "metadata": {
    "scrolled": false
   },
   "outputs": [
    {
     "name": "stdout",
     "output_type": "stream",
     "text": [
      "binary_label\n",
      "0    50010\n",
      "1      504\n",
      "dtype: int64\n",
      "\n",
      " predicting the following diseases:\n",
      " Adrenoleukodystrophy, Alzheimer Disease, Amyloid Neuropathies, Familial, Amyotrophic Lateral Sclerosis, Amyotrophic lateral sclerosis 1, Ceroid Lipofuscinosis, Neuronal, 6, Ceroid lipofuscinosis, neuronal 1, infantile, Copper-Overload Cirrhosis, Creutzfeldt-Jakob Syndrome, Familial apoceruloplasmin deficiency, Fragile X Syndrome, Hepatolenticular Degeneration, Huntington Disease, Lewy Body Disease, Menkes Kinky Hair Syndrome, Motor Neuron Disease, Myasthenia Gravis, Neurodegenerative Diseases, Neuromyelitis Optica, Optic Atrophy, Hereditary, Leber, Parkinson Disease, Prion Diseases, Scrapie, Shy-Drager Syndrome, Tauopathies, Tuberous Sclerosis\n"
     ]
    }
   ],
   "source": [
    "train_df['binary_label'] = np.where(train_df['DiseaseID'].isin(all_diseases),1, 0)\n",
    "print(train_df.groupby(['binary_label']).size())\n",
    "\n",
    "print('\\n predicting the following diseases:\\n', ', '.join(train_df[train_df['DiseaseID'].isin(all_diseases)]['DiseaseName'].unique()))"
   ]
  },
  {
   "cell_type": "markdown",
   "id": "3e81a8be",
   "metadata": {},
   "source": [
    "### Here we plot the accuracy / loss / ROC curve and confusion matrix "
   ]
  },
  {
   "cell_type": "code",
   "execution_count": 11,
   "id": "f8d9f1f7",
   "metadata": {},
   "outputs": [],
   "source": [
    "def plot_results(history, predicted_values, y_test, accuracy, show_plots):\n",
    "\n",
    "    auc_score = roc_auc_score(y_test, predicted_values) \n",
    "\n",
    "    if show_plots:\n",
    "        # plot accuracy\n",
    "        fig, axes = plt.subplots(nrows=2, ncols=2, figsize=(12, 8))\n",
    "        axes[0][0].plot(history.history['accuracy'],label='accuracy')\n",
    "        axes[0][0].plot(history.history['val_accuracy'],label='val_accuracy')\n",
    "        axes[0][0].text(2, history.history['accuracy'][0] + .005, 'accuracy: {:.4f}'.format(accuracy))\n",
    "\n",
    "        axes[0][0].legend()\n",
    "\n",
    "\n",
    "        # plot loss\n",
    "        axes[0][1].plot(history.history['loss'],label='loss')\n",
    "        axes[0][1].plot(history.history['val_loss'],label='val_loss')\n",
    "        axes[0][1].legend()\n",
    "        fig.tight_layout()\n",
    "\n",
    "        fpr, tpr, thresholds = roc_curve (y_test , predicted_values)\n",
    "\n",
    "        # plot_roc_curve\n",
    "\n",
    "        axes[1][0].plot(fpr,tpr)\n",
    "        axes[1][0].text(0.7, 0.9, 'auc: {:.4f}'.format(auc_score))\n",
    "        axes[1][0].axis([-.05,1.1,0,1.05]) \n",
    "\n",
    "        # plot confusion matrix\n",
    "        cm = confusion_matrix(y_test, np.where(predicted_values > 0.5, 1, 0))\n",
    "\n",
    "        labels = [\"Non Target\", \"Target\"]\n",
    "        disp = ConfusionMatrixDisplay(confusion_matrix=cm, display_labels=labels)\n",
    "\n",
    "        disp.plot(cmap=plt.cm.Blues, ax=axes[1][1]) # xticks_rotation=45\n",
    "\n",
    "    return auc_score"
   ]
  },
  {
   "cell_type": "markdown",
   "id": "c105e649",
   "metadata": {},
   "source": [
    "### This is a simple DNN model that predicts our binary labels and plots the results"
   ]
  },
  {
   "cell_type": "code",
   "execution_count": 12,
   "id": "4180b594",
   "metadata": {
    "scrolled": true
   },
   "outputs": [
    {
     "name": "stderr",
     "output_type": "stream",
     "text": [
      "2022-02-21 22:43:04.822095: I tensorflow/core/platform/cpu_feature_guard.cc:151] This TensorFlow binary is optimized with oneAPI Deep Neural Network Library (oneDNN) to use the following CPU instructions in performance-critical operations:  AVX2 FMA\n",
      "To enable them in other operations, rebuild TensorFlow with the appropriate compiler flags.\n"
     ]
    },
    {
     "name": "stdout",
     "output_type": "stream",
     "text": [
      "1263/1263 [==============================] - 1s 863us/step - loss: 0.0268 - accuracy: 0.9936\n"
     ]
    },
    {
     "data": {
      "image/png": "[encoded data removed]",
      "text/plain": [
       "<Figure size 864x576 with 5 Axes>"
      ]
     },
     "metadata": {
      "needs_background": "light"
     },
     "output_type": "display_data"
    }
   ],
   "source": [
    "def simple_model(features, labels, stop_early=True, show_plots=True):\n",
    "    \n",
    "    input_shape = features.shape[1]\n",
    "    \n",
    "    X_train, X_test, y_train, y_test = train_test_split(features, labels, random_state=0, train_size=.2)\n",
    "\n",
    "    model = Sequential()\n",
    "    model.add(Dense(60, input_dim=input_shape, activation='relu'))\n",
    "    model.add(Dense(6, input_dim=input_shape, activation='relu'))\n",
    "    model.add(Dense(1, activation='sigmoid'))\n",
    "    model.compile(loss='binary_crossentropy', optimizer='adam', metrics=['accuracy'])\n",
    "    \n",
    "    callbacks = []\n",
    "    if stop_early:\n",
    "        callbacks.append(tf.keras.callbacks.EarlyStopping(monitor='val_loss', patience=2))\n",
    "\n",
    "    history = model.fit(X_train,\n",
    "                        y_train,\n",
    "                        epochs=25,\n",
    "                        validation_split=0.2,\n",
    "                        callbacks=callbacks,\n",
    "                        verbose=VERBOSE\n",
    "                       )\n",
    "    predicted_values = model.predict(X_test)\n",
    "    loss, accuracy = model.evaluate(X_test, y_test)\n",
    "    \n",
    "    auc = plot_results(history, predicted_values, y_test, accuracy, show_plots)\n",
    "    \n",
    "    \n",
    "    return history, model, auc\n",
    "\n",
    "\n",
    "shuffled_df = train_df.sample(frac=1)\n",
    "history, the_simple_model, auc = simple_model(shuffled_df[top_500_genes], shuffled_df['binary_label'])\n",
    "\n"
   ]
  },
  {
   "cell_type": "markdown",
   "id": "0b417f51",
   "metadata": {},
   "source": [
    "## here we use a CNN and re-use the evaluation functions that we had above"
   ]
  },
  {
   "cell_type": "code",
   "execution_count": 14,
   "id": "074bcfe6",
   "metadata": {
    "scrolled": false
   },
   "outputs": [
    {
     "name": "stdout",
     "output_type": "stream",
     "text": [
      "1421/1421 [==============================] - 6s 4ms/step - loss: 0.0525 - accuracy: 0.9901\n"
     ]
    },
    {
     "ename": "TypeError",
     "evalue": "plot_results() missing 1 required positional argument: 'show_plots'",
     "output_type": "error",
     "traceback": [
      "\u001b[0;31m---------------------------------------------------------------------------\u001b[0m",
      "\u001b[0;31mTypeError\u001b[0m                                 Traceback (most recent call last)",
      "Input \u001b[0;32mIn [14]\u001b[0m, in \u001b[0;36m<module>\u001b[0;34m\u001b[0m\n\u001b[1;32m     28\u001b[0m     loss, accuracy \u001b[38;5;241m=\u001b[39m model\u001b[38;5;241m.\u001b[39mevaluate(X_test, y_test)\n\u001b[1;32m     29\u001b[0m     auc \u001b[38;5;241m=\u001b[39m plot_results(history, predicted_values, y_test, accuracy)\n\u001b[0;32m---> 32\u001b[0m \u001b[43mcnn_model\u001b[49m\u001b[43m(\u001b[49m\u001b[43mshuffled_df\u001b[49m\u001b[43m[\u001b[49m\u001b[43mtop_500_genes\u001b[49m\u001b[43m]\u001b[49m\u001b[43m,\u001b[49m\u001b[43m \u001b[49m\u001b[43mshuffled_df\u001b[49m\u001b[43m[\u001b[49m\u001b[38;5;124;43m'\u001b[39;49m\u001b[38;5;124;43mbinary_label\u001b[39;49m\u001b[38;5;124;43m'\u001b[39;49m\u001b[43m]\u001b[49m\u001b[43m)\u001b[49m\n",
      "Input \u001b[0;32mIn [14]\u001b[0m, in \u001b[0;36mcnn_model\u001b[0;34m(features, labels, stop_early)\u001b[0m\n\u001b[1;32m     27\u001b[0m predicted_values \u001b[38;5;241m=\u001b[39m model\u001b[38;5;241m.\u001b[39mpredict(X_test)\n\u001b[1;32m     28\u001b[0m loss, accuracy \u001b[38;5;241m=\u001b[39m model\u001b[38;5;241m.\u001b[39mevaluate(X_test, y_test)\n\u001b[0;32m---> 29\u001b[0m auc \u001b[38;5;241m=\u001b[39m \u001b[43mplot_results\u001b[49m\u001b[43m(\u001b[49m\u001b[43mhistory\u001b[49m\u001b[43m,\u001b[49m\u001b[43m \u001b[49m\u001b[43mpredicted_values\u001b[49m\u001b[43m,\u001b[49m\u001b[43m \u001b[49m\u001b[43my_test\u001b[49m\u001b[43m,\u001b[49m\u001b[43m \u001b[49m\u001b[43maccuracy\u001b[49m\u001b[43m)\u001b[49m\n",
      "\u001b[0;31mTypeError\u001b[0m: plot_results() missing 1 required positional argument: 'show_plots'"
     ]
    }
   ],
   "source": [
    "def cnn_model(features, labels, stop_early=True):\n",
    "    layer_numbers = 2        \n",
    "    pct_nodes_to_drop = .2\n",
    "    model = Sequential()\n",
    "\n",
    "    model.add(Conv1D(64, 2, activation=\"relu\", input_shape=(len(features.columns),1)))\n",
    "    model.add(Dense(16, activation=\"relu\"))\n",
    "    model.add(MaxPooling1D())\n",
    "    model.add(Flatten())\n",
    "    model.add(Dense(1, activation = 'sigmoid'))\n",
    "    model.compile(loss = 'binary_crossentropy', optimizer = \"adam\", metrics = ['accuracy'])\n",
    "    # model.summary()\n",
    "\n",
    "    X_train, X_test, y_train, y_test = train_test_split(features, labels, random_state=0, train_size=.1)\n",
    "    \n",
    "    callbacks = []\n",
    "    if stop_early:\n",
    "        callbacks.append(tf.keras.callbacks.EarlyStopping(monitor='val_loss', patience=2))\n",
    "\n",
    "    history = model.fit(X_train,\n",
    "                        y_train,\n",
    "                        epochs=50,\n",
    "                        validation_split=0.2,\n",
    "                        callbacks=callbacks,\n",
    "                        verbose=VERBOSE\n",
    "                       )\n",
    "    predicted_values = model.predict(X_test)\n",
    "    loss, accuracy = model.evaluate(X_test, y_test)\n",
    "    auc = plot_results(history, predicted_values, y_test, accuracy)\n",
    "    \n",
    "\n",
    "cnn_model(shuffled_df[top_500_genes], shuffled_df['binary_label'])\n",
    "\n"
   ]
  },
  {
   "cell_type": "markdown",
   "id": "6e93e272",
   "metadata": {},
   "source": [
    "### Now we're going to try to evaluate the positives and negative gene network relations -- we don't just want to predict inference we want to predcit what gene chemical interactions have positive and negative inference on the network"
   ]
  },
  {
   "cell_type": "code",
   "execution_count": null,
   "id": "77e1a8f4",
   "metadata": {},
   "outputs": [],
   "source": [
    "def apply_category(row):\n",
    "    if row.binary_label == 0:\n",
    "        return 'Not Releveant'\n",
    "    if row.DirectEvidence == 'marker/mechanism':\n",
    "        return 'Negative'\n",
    "    else:\n",
    "        return 'Therapeutic'\n",
    "\n",
    "def categorical_prediction(features, labels, stop_early=True):\n",
    "    \n",
    "    input_shape = features.shape[1]\n",
    "\n",
    "    X_train, X_test, y_train, y_test = train_test_split(features, labels, random_state=0, train_size=.2)\n",
    "\n",
    "    model = Sequential()\n",
    "    model.add(Dense(60, input_dim=input_shape, activation='relu'))\n",
    "    model.add(Dense(3, activation='sigmoid'))\n",
    "    model.compile(loss='categorical_crossentropy', optimizer='adam', metrics=['accuracy'])\n",
    "\n",
    "    callbacks = []\n",
    "    if stop_early:\n",
    "        callbacks.append(tf.keras.callbacks.EarlyStopping(monitor='val_loss', patience=2))\n",
    "\n",
    "    history = model.fit(X_train,\n",
    "                        y_train,\n",
    "                        epochs=25,\n",
    "                        validation_split=0.2,\n",
    "                        callbacks=callbacks,\n",
    "                        verbose=VERBOSE\n",
    "                       )\n",
    "    predicted_values = model.predict(X_test)\n",
    "    loss, accuracy = model.evaluate(X_test, y_test)\n",
    "\n",
    "    cm = confusion_matrix(y_test.argmax(axis=1), predicted_values.argmax(axis=1))\n",
    "\n",
    "    labels = ['Therapeutic', 'Not Relevant', 'Negative']\n",
    "    disp = ConfusionMatrixDisplay(confusion_matrix=cm, display_labels=labels)\n",
    "    \n",
    "    disp.plot(cmap=plt.cm.Blues) # xticks_rotation=45\n",
    "    # plot_results(history, predicted_values, y_test, accuracy)\n",
    "\n",
    "    return model\n",
    "\n",
    "train_df = get_training_data(df, top_500_genes)\n",
    "# print(train_df[:4])\n",
    "train_df['binary_label'] = np.where(train_df['DiseaseID'].isin(all_diseases),1, 0)\n",
    "\n",
    "shuffled_df = train_df.sample(frac=1)\n",
    "\n",
    "shuffled_df['categorical_label'] = shuffled_df.apply(lambda row: apply_category(row), axis=1)\n",
    "\n",
    "enc = OneHotEncoder()\n",
    "labels = enc.fit_transform(shuffled_df['categorical_label'][:, np.newaxis]).toarray()\n",
    "\n",
    "len(shuffled_df.columns) # [:4]\n",
    "len(top_500_genes)\n",
    "the_multi_class_model = categorical_prediction(shuffled_df[top_500_genes], labels)\n"
   ]
  },
  {
   "cell_type": "code",
   "execution_count": null,
   "id": "08f8b0ec",
   "metadata": {},
   "outputs": [],
   "source": [
    "# shuffled_df[top_n_genes]\n",
    "len(top_500_genes)"
   ]
  },
  {
   "cell_type": "markdown",
   "id": "a9f1c774",
   "metadata": {},
   "source": [
    "## Here, we Determine the optimal number of genes to use in the matrix  -- we've started with 500 but we want to "
   ]
  },
  {
   "cell_type": "code",
   "execution_count": null,
   "id": "ea470726",
   "metadata": {
    "scrolled": true
   },
   "outputs": [],
   "source": [
    "# gene_counts = [100, 200, 300, 400, 500, 600, 700, 800, 900, 1000] #  , 1500, 2000, 5000]\n",
    "gene_counts = range(20, 1020, 20)\n",
    "\n",
    "df = get_df('CTD_chemicals_diseases')\n",
    "\n",
    "results = []\n",
    "for gc in gene_counts:\n",
    "    print('gc:', gc)\n",
    "    top_n_genes = get_genes(df, gc)\n",
    "    train_df = get_training_data(df, top_n_genes)\n",
    "    train_df['binary_label'] = np.where(train_df['DiseaseID'].isin(all_diseases),1, 0)\n",
    "      \n",
    "    shuffled_df = train_df.sample(frac=1)\n",
    "    \n",
    "    history, model, auc = simple_model(shuffled_df[top_n_genes], shuffled_df['binary_label'], show_plots=False)\n",
    "    results.append({\n",
    "        'history': history, \n",
    "        'model': model,\n",
    "        'auc': auc,\n",
    "        'gene_count': gc\n",
    "    })\n",
    "\n",
    "## now plot these\n"
   ]
  },
  {
   "cell_type": "code",
   "execution_count": null,
   "id": "ab132f3d",
   "metadata": {},
   "outputs": [],
   "source": [
    "# # for x in results:\n",
    "x = [x.get('gene_count') for x in results]\n",
    "y = [x.get('auc') for x in results]\n",
    "\n",
    "y2 = [len(x.get('history').history.get('loss')) for x in results]\n",
    "\n",
    "# # x = [x.get('gene_count' for x in results)]\n",
    "# # y = [_.get('auc' for _ in results)]\n",
    "plt.plot(x, y)\n",
    "plt.title('AUC by Gene Count')\n",
    "plt.show()\n",
    "\n",
    "plt.plot(x, y2)\n",
    "plt.title('EPOCHS ran by Gene Count')\n",
    "plt.show()\n",
    "\n",
    "\n"
   ]
  },
  {
   "cell_type": "markdown",
   "id": "a77d36c1",
   "metadata": {},
   "source": [
    "### Here we evaluate the chemicals that have posibile therapeutic and harmful effects as it relates to.  We take the chemical to gene network.  I want to see chemicals *not* in the dataset that we can research."
   ]
  },
  {
   "cell_type": "code",
   "execution_count": null,
   "id": "b9262427",
   "metadata": {},
   "outputs": [],
   "source": [
    "inp_df = get_df('CTD_chem_gene_ixns')\n",
    "inp_df = inp_df[inp_df['GeneSymbol'].isin(top_500_genes)]\n",
    "\n",
    "\n",
    "gb_df = inp_df.groupby(['ChemicalName', 'GeneSymbol']).size().reset_index()\n",
    "gb_df.columns = ['ChemicalName','GeneSymbol', 'InteractionCount']\n",
    "dummy_df = pd.get_dummies(gb_df, prefix='', prefix_sep='',columns=['GeneSymbol'])\n",
    "\n",
    "gb_df = dummy_df.groupby(['ChemicalName']).agg({np.max}).reset_index()\n",
    "gb_df.columns = gb_df.columns.droplevel(1)\n",
    "\n"
   ]
  },
  {
   "cell_type": "code",
   "execution_count": null,
   "id": "e931cc9f",
   "metadata": {},
   "outputs": [],
   "source": [
    "gb_df\n",
    "features = gb_df.drop(['ChemicalName','InteractionCount'], axis=1)\n",
    "predicted_values = the_multi_class_model.predict(features)\n",
    "\n",
    "predicted_value_df = pd.DataFrame(predicted_values, columns=['Ther', 'Not Relevant', 'Marker'])\n",
    "\n",
    "final = gb_df.merge(predicted_value_df, left_index=True, right_index=True)\n",
    "final = final[['ChemicalName', 'Ther', 'Not Relevant', 'Marker']]\n",
    "\n",
    "# gb_df['predicted_values'] = predicted_values\n",
    "# pretty_df = gb_df[['ChemicalName', 'predicted_values']]\n",
    "\n",
    "print('--- THER ---')\n",
    "final.nlargest(10, 'Ther')\n",
    "# print(final.sort_values('Ther', ascending=False))[:5]\n",
    "\n",
    "print('--- MARKER ---')\n",
    "final.nlargest(10, 'Marker')\n",
    "\n"
   ]
  },
  {
   "cell_type": "code",
   "execution_count": null,
   "id": "bc6586cd",
   "metadata": {},
   "outputs": [],
   "source": [
    "interesting_chemicals = ['Oxidopamine', 'Melatonin', 'Maneb', '1-Methyl-4-phenyl-1,2,3,6-tetrahydropyridine']\n",
    "interesting_df = final[final['ChemicalName'].isin(interesting_chemicals)]\n",
    "print(interesting_df)"
   ]
  }
 ],
 "metadata": {
  "kernelspec": {
   "display_name": "Python 3 (ipykernel)",
   "language": "python",
   "name": "python3"
  },
  "language_info": {
   "codemirror_mode": {
    "name": "ipython",
    "version": 3
   },
   "file_extension": ".py",
   "mimetype": "text/x-python",
   "name": "python",
   "nbconvert_exporter": "python",
   "pygments_lexer": "ipython3",
   "version": "3.9.1"
  }
 },
 "nbformat": 4,
 "nbformat_minor": 5
}
