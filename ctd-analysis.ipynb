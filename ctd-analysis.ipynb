{
 "cells": [
  {
   "cell_type": "code",
   "execution_count": null,
   "id": "da1e4c63",
   "metadata": {},
   "outputs": [],
   "source": [
    "# note - the old notebook is located at ../school/ai-capstone/CTD_Parkinsons.ipynb"
   ]
  },
  {
   "cell_type": "code",
   "execution_count": 5,
   "id": "269277f5",
   "metadata": {},
   "outputs": [],
   "source": [
    "import os\n",
    "import requests\n",
    "\n",
    "import numpy as np\n",
    "import pandas as pd\n",
    "\n",
    "from keras import Sequential\n",
    "from keras.layers import Input, Dense, BatchNormalization, LSTM, Embedding, Bidirectional, Normalization\n",
    "from keras.models import Model\n",
    "\n",
    "from sklearn.decomposition import PCA\n",
    "\n",
    "import matplotlib.pyplot as plt\n",
    "\n",
    "from sklearn.metrics import roc_curve,roc_auc_score, confusion_matrix, ConfusionMatrixDisplay\n",
    "from sklearn.model_selection import train_test_split\n"
   ]
  },
  {
   "cell_type": "code",
   "execution_count": 1,
   "id": "24ea86cc",
   "metadata": {},
   "outputs": [],
   "source": [
    "import gzip\n",
    "import shutil\n",
    "\n",
    "def download_resource(resource):\n",
    "    url_dl_pattern = 'http://ctdbase.org/reports/{resource}.csv.gz'\n",
    "    url = url_dl_pattern.format(resource=resource)\n",
    "    \n",
    "    print('downloading: {0}'.format(resource))\n",
    "    local_filename = 'zipped_data/' + url.split('/')[-1]\n",
    "    unzipped_filename = 'unzipped_data/' + url.split('/')[-1].replace('.gz', '')\n",
    "    \n",
    "    if os.path.isfile(unzipped_filename):\n",
    "        print('data already exists')\n",
    "        return \n",
    "\n",
    "    # NOTE the stream=True parameter below\n",
    "    with requests.get(url, stream=True) as r:\n",
    "        r.raise_for_status()\n",
    "        with open(local_filename, 'wb') as f:\n",
    "            for chunk in r.iter_content(chunk_size=8192): \n",
    "                # If you have chunk encoded response uncomment if\n",
    "                # and set chunk_size parameter to None.\n",
    "                #if chunk: \n",
    "                f.write(chunk)\n",
    "\n",
    "    with gzip.open(local_filename, 'rb') as f_in:\n",
    "        with open(unzipped_filename, 'wb') as f_out:\n",
    "            shutil.copyfileobj(f_in, f_out)\n",
    "    \n",
    "    return local_filename\n"
   ]
  },
  {
   "cell_type": "code",
   "execution_count": 7,
   "id": "161a4812",
   "metadata": {},
   "outputs": [
    {
     "name": "stdout",
     "output_type": "stream",
     "text": [
      "downloading: CTD_chemicals_diseases\n",
      "downloading: CTD_diseases\n"
     ]
    }
   ],
   "source": [
    "resources = [\n",
    "#     'CTD_chem_gene_ixn_types',\n",
    "#     'CTD_chem_gene_ixns',\n",
    "#     'CTD_chem_pathways_enriched',\n",
    "#     'CTD_genes_diseases',\n",
    "#     'CTD_genes_pathways',\n",
    "#     'CTD_diseases_pathways',\n",
    "#     'CTD_pheno_term_ixns',\n",
    "#     'CTD_exposure_studies',\n",
    "#     'CTD_chemicals',\n",
    "#     'CTD_genes',\n",
    "    'CTD_chemicals_diseases',\n",
    "    'CTD_diseases'\n",
    "]\n",
    "\n",
    "for res in resources:\n",
    "    download_resource(res)\n"
   ]
  },
  {
   "cell_type": "code",
   "execution_count": 8,
   "id": "d2ca8d91",
   "metadata": {},
   "outputs": [],
   "source": [
    "def get_df(resource):\n",
    "    line_number = 27\n",
    "    the_file = 'unzipped_data/{resource}.csv'.format(resource=resource)\n",
    "    with open(the_file, 'r') as reader:\n",
    "        for i, row in enumerate(reader):\n",
    "            if i == line_number:\n",
    "                header = row.replace('# ', '').split(',')\n",
    "\n",
    "    # print(header)\n",
    "    df = pd.read_csv(the_file, skiprows=29, names=header)\n",
    "    return df"
   ]
  },
  {
   "cell_type": "code",
   "execution_count": 9,
   "id": "486ec391",
   "metadata": {},
   "outputs": [],
   "source": [
    "df = get_df('CTD_chemicals_diseases')"
   ]
  },
  {
   "cell_type": "code",
   "execution_count": 31,
   "id": "30ae4653",
   "metadata": {},
   "outputs": [
    {
     "ename": "TypeError",
     "evalue": "unsupported operand type(s) for +: 'set' and 'list'",
     "output_type": "error",
     "traceback": [
      "\u001b[0;31m---------------------------------------------------------------------------\u001b[0m",
      "\u001b[0;31mTypeError\u001b[0m                                 Traceback (most recent call last)",
      "Input \u001b[0;32mIn [31]\u001b[0m, in \u001b[0;36m<module>\u001b[0;34m\u001b[0m\n\u001b[1;32m     11\u001b[0m level_two \u001b[38;5;241m=\u001b[39m hierarchy_df\u001b[38;5;241m.\u001b[39mloc[hierarchy_df[\u001b[38;5;124m'\u001b[39m\u001b[38;5;124mParentIDs\u001b[39m\u001b[38;5;124m'\u001b[39m]\u001b[38;5;241m.\u001b[39misin(level_one[\u001b[38;5;124m'\u001b[39m\u001b[38;5;124mDiseaseID\u001b[39m\u001b[38;5;124m'\u001b[39m])]\n\u001b[1;32m     12\u001b[0m level_three \u001b[38;5;241m=\u001b[39m hierarchy_df\u001b[38;5;241m.\u001b[39mloc[hierarchy_df[\u001b[38;5;124m'\u001b[39m\u001b[38;5;124mParentIDs\u001b[39m\u001b[38;5;124m'\u001b[39m]\u001b[38;5;241m.\u001b[39misin(level_two[\u001b[38;5;124m'\u001b[39m\u001b[38;5;124mDiseaseID\u001b[39m\u001b[38;5;124m'\u001b[39m])]\n\u001b[0;32m---> 14\u001b[0m all_diseases \u001b[38;5;241m=\u001b[39m \u001b[38;5;28mlist\u001b[39m(\u001b[38;5;28;43mset\u001b[39;49m\u001b[43m(\u001b[49m\u001b[38;5;28;43mlist\u001b[39;49m\u001b[43m(\u001b[49m\u001b[43mlevel_one\u001b[49m\u001b[43m[\u001b[49m\u001b[38;5;124;43m'\u001b[39;49m\u001b[38;5;124;43mDiseaseID\u001b[39;49m\u001b[38;5;124;43m'\u001b[39;49m\u001b[43m]\u001b[49m\u001b[38;5;241;43m.\u001b[39;49m\u001b[43munique\u001b[49m\u001b[43m(\u001b[49m\u001b[43m)\u001b[49m\u001b[43m)\u001b[49m\u001b[38;5;241;43m+\u001b[39;49m\u001b[43m \u001b[49m\u001b[38;5;28;43mlist\u001b[39;49m\u001b[43m(\u001b[49m\u001b[43mlevel_two\u001b[49m\u001b[43m[\u001b[49m\u001b[38;5;124;43m'\u001b[39;49m\u001b[38;5;124;43mDiseaseID\u001b[39;49m\u001b[38;5;124;43m'\u001b[39;49m\u001b[43m]\u001b[49m\u001b[38;5;241;43m.\u001b[39;49m\u001b[43munique\u001b[49m\u001b[43m(\u001b[49m\u001b[43m)\u001b[49m\u001b[43m \u001b[49m\u001b[43m)\u001b[49m\u001b[43m \u001b[49m\u001b[38;5;241;43m+\u001b[39;49m\u001b[43m \u001b[49m\u001b[38;5;28;43mlist\u001b[39;49m\u001b[43m(\u001b[49m\u001b[43mlevel_three\u001b[49m\u001b[43m[\u001b[49m\u001b[38;5;124;43m'\u001b[39;49m\u001b[38;5;124;43mDiseaseID\u001b[39;49m\u001b[38;5;124;43m'\u001b[39;49m\u001b[43m]\u001b[49m\u001b[38;5;241;43m.\u001b[39;49m\u001b[43munique\u001b[49m\u001b[43m(\u001b[49m\u001b[43m)\u001b[49m\u001b[43m \u001b[49m\u001b[43m)\u001b[49m\u001b[43m)\u001b[49m\u001b[43m \u001b[49m\u001b[38;5;241;43m+\u001b[39;49m\u001b[43m \u001b[49m\u001b[43m[\u001b[49m\u001b[43mtop_of_tree\u001b[49m\u001b[43m]\u001b[49m)\n",
      "\u001b[0;31mTypeError\u001b[0m: unsupported operand type(s) for +: 'set' and 'list'"
     ]
    }
   ],
   "source": [
    "disease_df = get_df('CTD_diseases')\n",
    "disease_df[:4]\n",
    "disease_df['ParentIDs'].str.split('|').explode()\n",
    "\n",
    "hierarchy_df = disease_df.assign(ParentIDs=disease_df['ParentIDs'].str.split('|')).explode('ParentIDs')\n",
    "\n",
    "top_of_tree = 'MESH:D010300' # parkinsons\n",
    "# top_of_tree = 'MESH:D019636' # neurodegenerative diseases\n",
    "# top_of_tree = 'MESH:D009422' # nervous system diseases\n",
    "level_one = hierarchy_df.loc[hierarchy_df['ParentIDs'] == top_of_tree]\n",
    "level_two = hierarchy_df.loc[hierarchy_df['ParentIDs'].isin(level_one['DiseaseID'])]\n",
    "level_three = hierarchy_df.loc[hierarchy_df['ParentIDs'].isin(level_two['DiseaseID'])]\n",
    "\n",
    "all_diseases = list(set(list(level_one['DiseaseID'].unique())+ list(level_two['DiseaseID'].unique() ) + list(level_three['DiseaseID'].unique() )) + [top_of_tree])\n"
   ]
  },
  {
   "cell_type": "code",
   "execution_count": 12,
   "id": "b498a605",
   "metadata": {},
   "outputs": [],
   "source": [
    "# print(len(df)) # 7,737,679\n",
    "def get_genes(df, N):\n",
    "    gene_df = pd.DataFrame(df.groupby(['InferenceGeneSymbol']).size()).reset_index()\n",
    "    gene_df.columns = ['InferenceGeneSymbol','cnt']\n",
    "    top_n_genes_df = gene_df.sort_values('cnt', ascending=False)[:N]\n",
    "    top_n_genes = top_n_genes_df['InferenceGeneSymbol'].unique()\n",
    "    return top_n_genes\n",
    "\n",
    "N = 500\n",
    "top_n_genes = get_genes(df, N)\n",
    "    "
   ]
  },
  {
   "cell_type": "code",
   "execution_count": 25,
   "id": "2c018b46",
   "metadata": {},
   "outputs": [],
   "source": [
    "def get_training_data(df):\n",
    "    \n",
    "    try:\n",
    "        return pd.read_csv('gene_network.csv')\n",
    "    except Exception:\n",
    "        pass\n",
    "\n",
    "    gene_df = df.loc[df['DirectEvidence'].isnull()][['ChemicalName', 'DiseaseName', 'InferenceGeneSymbol', 'InferenceScore', 'DiseaseID']]\n",
    "\n",
    "    gene_df = gene_df.loc[gene_df['InferenceGeneSymbol'].isin(top_n_genes)]\n",
    "\n",
    "    evidence_df = df.loc[df['DirectEvidence'].notnull()][['ChemicalName', 'DiseaseName', 'DirectEvidence', 'DiseaseID']]\n",
    "    merged_df = gene_df.merge(evidence_df, on=['ChemicalName', 'DiseaseName', 'DiseaseID'])\n",
    "\n",
    "    dummy_df = pd.get_dummies(merged_df, prefix='', prefix_sep='',columns=['InferenceGeneSymbol'])\n",
    "    gb_df = dummy_df.groupby(['DiseaseName', 'ChemicalName', 'DiseaseID']).agg({np.max}).reset_index()\n",
    "\n",
    "    gb_df.columns = gb_df.columns.droplevel(1)\n",
    "\n",
    "    gb_df['label'] = np.where(gb_df['DirectEvidence'] == 'marker/mechanism',\n",
    "                                               gb_df['InferenceScore'] * -1,\n",
    "                                               gb_df['InferenceScore'])\n",
    "\n",
    "    gb_df.to_csv('gene_network.csv')\n",
    "    return top_n_genes\n",
    "    \n",
    "train_df = get_training_data(df)\n",
    "    "
   ]
  },
  {
   "cell_type": "code",
   "execution_count": 30,
   "id": "90ad3c85",
   "metadata": {
    "scrolled": true
   },
   "outputs": [
    {
     "data": {
      "text/plain": [
       "binary_label\n",
       "0    50514\n",
       "dtype: int64"
      ]
     },
     "execution_count": 30,
     "metadata": {},
     "output_type": "execute_result"
    }
   ],
   "source": [
    "train_df['binary_label'] = np.where(train_df['DiseaseID'].isin(all_diseases),1, 0)\n",
    "train_df.groupby(['binary_label']).size()"
   ]
  },
  {
   "cell_type": "code",
   "execution_count": 27,
   "id": "f8d9f1f7",
   "metadata": {},
   "outputs": [],
   "source": [
    "def plot_results(history, predicted_values, y_test, accuracy):\n",
    "    \n",
    "    # plot accuracy\n",
    "    fig, axes = plt.subplots(nrows=2, ncols=2, figsize=(12, 8))\n",
    "    axes[0][0].plot(history.history['accuracy'],label='accuracy')\n",
    "    axes[0][0].plot(history.history['val_accuracy'],label='val_accuracy')\n",
    "    axes[0][0].text(16, history.history['accuracy'][0] + .005, 'accuracy: {:.4f}'.format(accuracy))\n",
    "\n",
    "    axes[0][0].legend()\n",
    "\n",
    "    \n",
    "    # plot loss\n",
    "    axes[0][1].plot(history.history['loss'],label='loss')\n",
    "    axes[0][1].plot(history.history['val_loss'],label='val_loss')\n",
    "    axes[0][1].legend()\n",
    "    fig.tight_layout()\n",
    "    \n",
    "    fpr, tpr, thresholds = roc_curve (y_test , predicted_values)\n",
    "\n",
    "    # plot_roc_curve\n",
    "    auc_score = roc_auc_score(y_test, predicted_values) \n",
    "\n",
    "    axes[1][0].plot(fpr,tpr)\n",
    "    axes[1][0].text(0.7, 0.9, 'auc: {:.4f}'.format(auc_score))\n",
    "    axes[1][0].axis([-.05,1.1,0,1.05]) \n",
    "\n",
    "    # plot confusion matrix\n",
    "    cm = confusion_matrix(y_test, np.where(predicted_values > 0.5, 1, 0))\n",
    "\n",
    "    labels = [\"Non Target\", \"Target\"]\n",
    "    disp = ConfusionMatrixDisplay(confusion_matrix=cm, display_labels=labels)\n",
    "\n",
    "    disp.plot(cmap=plt.cm.Blues, ax=axes[1][1]) # xticks_rotation=45"
   ]
  },
  {
   "cell_type": "code",
   "execution_count": 28,
   "id": "4180b594",
   "metadata": {
    "scrolled": true
   },
   "outputs": [
    {
     "name": "stdout",
     "output_type": "stream",
     "text": [
      "1421/1421 [==============================] - 1s 915us/step - loss: 0.0389 - accuracy: 0.9931\n"
     ]
    },
    {
     "data": {
      "image/png": "[encoded data removed]",
      "text/plain": [
       "<Figure size 864x576 with 5 Axes>"
      ]
     },
     "metadata": {
      "needs_background": "light"
     },
     "output_type": "display_data"
    }
   ],
   "source": [
    "def simple_model(features, labels):\n",
    "    \n",
    "    input_shape = features.shape[1]\n",
    "    \n",
    "    X_train, X_test, y_train, y_test = train_test_split(features, labels, random_state=0, train_size=.1)\n",
    "    \n",
    "    model = Sequential()\n",
    "    model.add(Dense(60, input_dim=input_shape, activation='relu'))\n",
    "    model.add(Dense(1, activation='sigmoid'))\n",
    "    model.compile(loss='binary_crossentropy', optimizer='adam', metrics=['accuracy'])\n",
    "    \n",
    "    callbacks = []\n",
    "    # if self.stop_early:\n",
    "    #    callbacks.append(tf.keras.callbacks.EarlyStopping(monitor='val_loss', patience=2))\n",
    "\n",
    "    history = model.fit(X_train,\n",
    "                        y_train,\n",
    "                        epochs=25,\n",
    "                        validation_split=0.2,\n",
    "                        callbacks=callbacks,\n",
    "                        verbose=False\n",
    "                       )\n",
    "    predicted_values = model.predict(X_test)\n",
    "    loss, accuracy = model.evaluate(X_test, y_test)\n",
    "    plot_results(history, predicted_values, y_test, accuracy)\n",
    "    \n",
    "    \n",
    "    return history, model\n",
    "\n",
    "\n",
    "shuffled_df = train_df.sample(frac=1)\n",
    "history, model = simple_model(shuffled_df[top_n_genes], shuffled_df['binary_label'])\n",
    "\n"
   ]
  },
  {
   "cell_type": "code",
   "execution_count": null,
   "id": "074bcfe6",
   "metadata": {},
   "outputs": [],
   "source": [
    "print('test:', pd.DataFrame(y_test, columns=['binary_label']).groupby(['binary_label']).size())\n",
    "print('train:', pd.DataFrame(y_train, columns=['binary_label']).groupby(['binary_label']).size())"
   ]
  }
 ],
 "metadata": {
  "kernelspec": {
   "display_name": "Python 3 (ipykernel)",
   "language": "python",
   "name": "python3"
  },
  "language_info": {
   "codemirror_mode": {
    "name": "ipython",
    "version": 3
   },
   "file_extension": ".py",
   "mimetype": "text/x-python",
   "name": "python",
   "nbconvert_exporter": "python",
   "pygments_lexer": "ipython3",
   "version": "3.9.1"
  }
 },
 "nbformat": 4,
 "nbformat_minor": 5
}
