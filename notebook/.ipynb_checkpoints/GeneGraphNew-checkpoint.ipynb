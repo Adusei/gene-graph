{
 "cells": [
  {
   "cell_type": "code",
   "execution_count": 5,
   "id": "5afcf5e4-f5ad-4aac-8393-880388d19ac0",
   "metadata": {},
   "outputs": [],
   "source": [
    "from src.disease_classifier import DiseaseClassifier\n",
    "from ctd import get_data"
   ]
  },
  {
   "cell_type": "code",
   "execution_count": 6,
   "id": "a7aa2624-7b1f-4594-8c45-8097c5131074",
   "metadata": {},
   "outputs": [
    {
     "name": "stderr",
     "output_type": "stream",
     "text": [
      "/opt/conda/lib/python3.11/site-packages/ctd/get_data.py:103: DtypeWarning: Columns (8) have mixed types. Specify dtype option on import or set low_memory=False.\n",
      "  df = pd.read_csv(the_file, skiprows=29, names=header)\n"
     ]
    }
   ],
   "source": [
    "input_df = get_data('ChemicalDiseaseInteractions')"
   ]
  },
  {
   "cell_type": "code",
   "execution_count": 7,
   "id": "c2201d72-fdb3-4c71-9bbe-1d0ab40c4e00",
   "metadata": {},
   "outputs": [
    {
     "ename": "TypeError",
     "evalue": "DiseaseClassifier.prep_training_data() missing 1 required positional argument: 'one_hot'",
     "output_type": "error",
     "traceback": [
      "\u001b[0;31m---------------------------------------------------------------------------\u001b[0m",
      "\u001b[0;31mTypeError\u001b[0m                                 Traceback (most recent call last)",
      "Cell \u001b[0;32mIn[7], line 10\u001b[0m\n\u001b[1;32m      1\u001b[0m kw \u001b[38;5;241m=\u001b[39m {\n\u001b[1;32m      2\u001b[0m     \u001b[38;5;124m'\u001b[39m\u001b[38;5;124minput_df\u001b[39m\u001b[38;5;124m'\u001b[39m: input_df,\n\u001b[1;32m      3\u001b[0m     \u001b[38;5;124m'\u001b[39m\u001b[38;5;124mparent_disease\u001b[39m\u001b[38;5;124m'\u001b[39m: \u001b[38;5;124m'\u001b[39m\u001b[38;5;124mMESH:D019636\u001b[39m\u001b[38;5;124m'\u001b[39m, \u001b[38;5;66;03m# neurodegenerative diseases\u001b[39;00m\n\u001b[0;32m   (...)\u001b[0m\n\u001b[1;32m      7\u001b[0m     \u001b[38;5;124m'\u001b[39m\u001b[38;5;124moversample\u001b[39m\u001b[38;5;124m'\u001b[39m: \u001b[38;5;28;01mFalse\u001b[39;00m\n\u001b[1;32m      8\u001b[0m }\n\u001b[1;32m      9\u001b[0m dc \u001b[38;5;241m=\u001b[39m DiseaseClassifier(\u001b[38;5;241m*\u001b[39m\u001b[38;5;241m*\u001b[39mkw)\n\u001b[0;32m---> 10\u001b[0m dc_mm, _ \u001b[38;5;241m=\u001b[39m \u001b[43mdc\u001b[49m\u001b[38;5;241;43m.\u001b[39;49m\u001b[43mmain\u001b[49m\u001b[43m(\u001b[49m\u001b[43m)\u001b[49m\n\u001b[1;32m     11\u001b[0m display(pd\u001b[38;5;241m.\u001b[39mDataFrame([dc_mm]))\n",
      "File \u001b[0;32m~/work/src/disease_classifier.py:363\u001b[0m, in \u001b[0;36mDiseaseClassifier.main\u001b[0;34m(self)\u001b[0m\n\u001b[1;32m    356\u001b[0m \u001b[38;5;28;01mdef\u001b[39;00m \u001b[38;5;21mmain\u001b[39m(\u001b[38;5;28mself\u001b[39m) \u001b[38;5;241m-\u001b[39m\u001b[38;5;241m>\u001b[39m Tuple[Dict[\u001b[38;5;28mstr\u001b[39m, Any], Sequential]:\n\u001b[1;32m    357\u001b[0m \u001b[38;5;250m    \u001b[39m\u001b[38;5;124;03m\"\"\"Run the main process.\u001b[39;00m\n\u001b[1;32m    358\u001b[0m \n\u001b[1;32m    359\u001b[0m \u001b[38;5;124;03m    Returns:\u001b[39;00m\n\u001b[1;32m    360\u001b[0m \u001b[38;5;124;03m        A tuple containing a dictionary of model metrics and the trained model.\u001b[39;00m\n\u001b[1;32m    361\u001b[0m \n\u001b[1;32m    362\u001b[0m \u001b[38;5;124;03m    \"\"\"\u001b[39;00m\n\u001b[0;32m--> 363\u001b[0m     train_df \u001b[38;5;241m=\u001b[39m \u001b[38;5;28;43mself\u001b[39;49m\u001b[38;5;241;43m.\u001b[39;49m\u001b[43mprep_training_data\u001b[49m\u001b[43m(\u001b[49m\u001b[43m)\u001b[49m\n\u001b[1;32m    364\u001b[0m     train_df \u001b[38;5;241m=\u001b[39m \u001b[38;5;28mself\u001b[39m\u001b[38;5;241m.\u001b[39mset_label(train_df)\n\u001b[1;32m    365\u001b[0m     history, model, auc, model_metrics \u001b[38;5;241m=\u001b[39m \u001b[38;5;28mself\u001b[39m\u001b[38;5;241m.\u001b[39mtrain_model(train_df)\n",
      "\u001b[0;31mTypeError\u001b[0m: DiseaseClassifier.prep_training_data() missing 1 required positional argument: 'one_hot'"
     ]
    }
   ],
   "source": [
    "kw = {\n",
    "    'input_df': input_df,\n",
    "    'parent_disease': 'MESH:D019636', # neurodegenerative diseases\n",
    "    'gene_count': 1000,\n",
    "    'show_plots': True,\n",
    "    'use_class_weights': True,\n",
    "    'oversample': False,\n",
    "    'use_gene_inference_score': False\n",
    "}\n",
    "dc = DiseaseClassifier(**kw)\n",
    "dc_mm, _ = dc.main()\n",
    "display(pd.DataFrame([dc_mm]))"
   ]
  }
 ],
 "metadata": {
  "kernelspec": {
   "display_name": "Python 3 (ipykernel)",
   "language": "python",
   "name": "python3"
  },
  "language_info": {
   "codemirror_mode": {
    "name": "ipython",
    "version": 3
   },
   "file_extension": ".py",
   "mimetype": "text/x-python",
   "name": "python",
   "nbconvert_exporter": "python",
   "pygments_lexer": "ipython3",
   "version": "3.11.4"
  }
 },
 "nbformat": 4,
 "nbformat_minor": 5
}
