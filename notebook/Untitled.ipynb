{
 "cells": [
  {
   "cell_type": "code",
   "execution_count": 5,
   "id": "c438d5e3-dbd3-4bfd-9e60-bfb54a5903d6",
   "metadata": {},
   "outputs": [
    {
     "name": "stdout",
     "output_type": "stream",
     "text": [
      "Epoch 1/10\n",
      "5/5 [==============================] - 0s 3ms/step - loss: 1.9576\n",
      "Epoch 2/10\n",
      "5/5 [==============================] - 0s 3ms/step - loss: 1.4465\n",
      "Epoch 3/10\n",
      "5/5 [==============================] - 0s 3ms/step - loss: 0.8278\n",
      "Epoch 4/10\n",
      "5/5 [==============================] - 0s 4ms/step - loss: 0.7722\n",
      "Epoch 5/10\n",
      "5/5 [==============================] - 0s 3ms/step - loss: 0.4337\n",
      "Epoch 6/10\n",
      "5/5 [==============================] - 0s 2ms/step - loss: 0.2693\n",
      "Epoch 7/10\n",
      "5/5 [==============================] - 0s 2ms/step - loss: 0.1896\n",
      "Epoch 8/10\n",
      "5/5 [==============================] - 0s 2ms/step - loss: 0.1855\n",
      "Epoch 9/10\n",
      "5/5 [==============================] - 0s 2ms/step - loss: 0.1832\n",
      "Epoch 10/10\n",
      "5/5 [==============================] - 0s 2ms/step - loss: 0.1814\n",
      "sepal length (cm): [0.83755535]\n",
      "sepal width (cm): [0.28761104]\n",
      "petal length (cm): [0.77580553]\n",
      "petal width (cm): [0.5671213]\n"
     ]
    }
   ],
   "source": [
    "from tensorflow import keras\n",
    "from sklearn.datasets import load_iris\n",
    "import numpy as np\n",
    "\n",
    "# Load the iris dataset\n",
    "data = load_iris()\n",
    "X = data.data\n",
    "y = data.target\n",
    "feature_names = data.feature_names\n",
    "\n",
    "# Create and compile a linear Keras model\n",
    "model = keras.Sequential()\n",
    "model.add(keras.layers.Dense(1, activation='linear', input_shape=(4,)))  # 4 features in the iris dataset\n",
    "model.compile(optimizer='adam', loss='binary_crossentropy')\n",
    "\n",
    "# Train the model\n",
    "model.fit(X, y, epochs=10)\n",
    "\n",
    "# Retrieve the model weights\n",
    "weights = model.get_weights()[0]\n",
    "\n",
    "# Calculate feature importances\n",
    "importances = np.abs(weights)\n",
    "\n",
    "# Print the feature importances with their names\n",
    "for feature, importance in zip(feature_names, importances):\n",
    "    print(f\"{feature}: {importance}\")\n"
   ]
  }
 ],
 "metadata": {
  "kernelspec": {
   "display_name": "Python 3 (ipykernel)",
   "language": "python",
   "name": "python3"
  },
  "language_info": {
   "codemirror_mode": {
    "name": "ipython",
    "version": 3
   },
   "file_extension": ".py",
   "mimetype": "text/x-python",
   "name": "python",
   "nbconvert_exporter": "python",
   "pygments_lexer": "ipython3",
   "version": "3.11.4"
  }
 },
 "nbformat": 4,
 "nbformat_minor": 5
}
